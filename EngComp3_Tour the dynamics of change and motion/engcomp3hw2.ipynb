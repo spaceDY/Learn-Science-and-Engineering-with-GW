{
 "cells": [
  {
   "cell_type": "markdown",
   "metadata": {
    "deletable": false,
    "editable": false,
    "nbgrader": {
     "cell_type": "markdown",
     "checksum": "35db8f3109d050b802cad99a0270aa56",
     "grade": false,
     "grade_id": "cell-3c0093176e652ab0",
     "locked": true,
     "schema_version": 3,
     "solution": false
    }
   },
   "source": [
    "Before you turn in this homework, make sure everything runs as expected. First, **restart the kernel** (in the menubar, select Kernel$\\rightarrow$Restart) and then **run all cells** (in the menubar, select Cell$\\rightarrow$Run All).\n",
    "\n",
    "Make sure you execute every single code cell, in order, filling with your solutions in any place that says `YOUR CODE HERE`, and always DELETE the line that says:\n",
    "\n",
    "```python\n",
    "raise NotImplementedError()\n",
    "```\n",
    "The purpose of this line is to tell you if you forgot to answer a question (it will throw an error if the line is there)\n",
    "\n",
    "**IMPORTANT**: DO NOT DELETE ANY CELL.\n",
    "\n",
    "Fill your name below:"
   ]
  },
  {
   "cell_type": "code",
   "execution_count": null,
   "metadata": {},
   "outputs": [],
   "source": [
    "NAME = \"\""
   ]
  },
  {
   "cell_type": "markdown",
   "metadata": {
    "deletable": false,
    "editable": false,
    "nbgrader": {
     "cell_type": "markdown",
     "checksum": "f73611c68bb56b057ed7090fb97c1800",
     "grade": false,
     "grade_id": "cell-3abd458e03c4f77e",
     "locked": true,
     "schema_version": 3,
     "solution": false
    }
   },
   "source": [
    "# Before you start \n",
    "\n",
    "For this homework, we will need to import some libraries. You need to execute the following cell only once; you don't need to copy this in every cell you run."
   ]
  },
  {
   "cell_type": "code",
   "execution_count": null,
   "metadata": {},
   "outputs": [],
   "source": [
    "import numpy \n"
   ]
  },
  {
   "cell_type": "markdown",
   "metadata": {
    "deletable": false,
    "editable": false,
    "nbgrader": {
     "cell_type": "markdown",
     "checksum": "cd8dbae37eb9e5a41e75fd77287e6b36",
     "grade": false,
     "grade_id": "cell-880595a7da357b62",
     "locked": true,
     "schema_version": 3,
     "solution": false
    }
   },
   "source": [
    "# Exercise 1\n",
    "\n",
    "In lesson 1 module 3 we used the following approximation for the velocity and acceleration at a point $i$\n",
    "\n",
    "\\begin{equation}\n",
    "    v_i = \\frac{y_{i+1}-y_i}{\\Delta t}, \\qquad a_i = \\frac{v_{i+1}-v_i}{\\Delta t}\n",
    "\\end{equation}\n",
    "\n",
    "to compute the velocity and acceleration of high-esolution data of falling ball. \n",
    "\n",
    "In this exercise you will use different approximation of the derivative to compute the velocity and acceleration of a subset of the high-resolution data. The following arrays contain data points each 10 elements of the original data, before the first bounce. "
   ]
  },
  {
   "cell_type": "code",
   "execution_count": null,
   "metadata": {},
   "outputs": [],
   "source": [
    "y = numpy.array([ 1.6       ,  1.59950951,  1.59803905,  1.59558869,  1.59215854,\n",
    "                  1.58774878,  1.5823596 ,  1.57599128,  1.56864411,  1.56031845,\n",
    "                  1.5510147 ,  1.5407333 ,  1.52947474,  1.51723957,  1.50402837,\n",
    "                  1.48984177,  1.47468045,  1.45854514,  1.44143659,  1.42335564,\n",
    "                  1.40430313,  1.38427998,  1.36328713,  1.3413256 ,  1.3183964 ,\n",
    "                  1.29450064,  1.26963945,  1.24381399,  1.21702549,  1.18927522,\n",
    "                  1.16056447,  1.1308946 ,  1.10026701,  1.06868312,  1.03614442,\n",
    "                  1.00265243,  0.96820871,  0.93281486,  0.89647254,  0.85918343,\n",
    "                  0.82094926,  0.7817718 ,  0.74165285,  0.70059427,  0.65859794,\n",
    "                  0.61566579,  0.5717998 ,  0.52700195,  0.4812743 ,  0.43461893,\n",
    "                  0.38703796,  0.33853353,  0.28910785,  0.23876314,  0.18750167,\n",
    "                  0.13532573,  0.08223767,  0.02823984])"
   ]
  },
  {
   "cell_type": "code",
   "execution_count": null,
   "metadata": {},
   "outputs": [],
   "source": [
    "t = numpy.arange(0., 0.58, 0.01)"
   ]
  },
  {
   "cell_type": "markdown",
   "metadata": {
    "deletable": false,
    "editable": false,
    "nbgrader": {
     "cell_type": "markdown",
     "checksum": "4d8c5ecf8199a0ae24dc942a138df3de",
     "grade": false,
     "grade_id": "cell-5e9d4261d85ec336",
     "locked": true,
     "schema_version": 3,
     "solution": false
    }
   },
   "source": [
    "**Warning:** Keep in mind that `dt` in all the cases below it is NOT 0.001 as in the lesson. You can compute it as we did in the lesson but now using the `t` array defined above.\n",
    "\n",
    "**Tip:** You can test your own results by following the same procedure we suggested you in exercise 1. Actually we strongly recomendend you to do it. "
   ]
  },
  {
   "cell_type": "markdown",
   "metadata": {
    "deletable": false,
    "editable": false,
    "nbgrader": {
     "cell_type": "markdown",
     "checksum": "c184a1e132f7e33b8fc6e1adafbd8c4b",
     "grade": false,
     "grade_id": "cell-a0a7bd52d0078477",
     "locked": true,
     "schema_version": 3,
     "solution": false
    }
   },
   "source": [
    "Given the arrays `y` and `t` defined above:"
   ]
  },
  {
   "cell_type": "markdown",
   "metadata": {
    "deletable": false,
    "editable": false,
    "nbgrader": {
     "cell_type": "markdown",
     "checksum": "b404a24b27d7ff2ee1b577f3410f7b2e",
     "grade": false,
     "grade_id": "cell-77bbb99639e58c66",
     "locked": true,
     "schema_version": 3,
     "solution": false
    }
   },
   "source": [
    "a) Using NumPy slicing and the following approximation of the first derivative, compute the velocity array, and assign the result to a variable named `v_central`.\n",
    "\n",
    "\\begin{equation}\n",
    "    v_i = \\frac{y_{i+1}-y_{i-1}}{2\\Delta t}\n",
    "\\end{equation}"
   ]
  },
  {
   "cell_type": "code",
   "execution_count": null,
   "metadata": {
    "deletable": false,
    "nbgrader": {
     "cell_type": "code",
     "checksum": "0af42955efa99bd5edc114a905f703a7",
     "grade": false,
     "grade_id": "cell-ec6a8d595b02daa8",
     "locked": false,
     "schema_version": 3,
     "solution": true
    }
   },
   "outputs": [],
   "source": [
    "# YOUR CODE HERE\n",
    "raise NotImplementedError()"
   ]
  },
  {
   "cell_type": "code",
   "execution_count": null,
   "metadata": {
    "deletable": false,
    "editable": false,
    "nbgrader": {
     "cell_type": "code",
     "checksum": "f620a0645bdabc52b5f047108143365a",
     "grade": true,
     "grade_id": "1-a",
     "locked": true,
     "points": 10,
     "schema_version": 3,
     "solution": false
    }
   },
   "outputs": [],
   "source": []
  },
  {
   "cell_type": "markdown",
   "metadata": {
    "deletable": false,
    "editable": false,
    "nbgrader": {
     "cell_type": "markdown",
     "checksum": "0317a528cbcef90943b7054c8db82601",
     "grade": false,
     "grade_id": "cell-e26325eed7458e95",
     "locked": true,
     "schema_version": 3,
     "solution": false
    }
   },
   "source": [
    "b) Using NumPy slicing, compute the acceleration array by applying the scheme defined in a) to the acceleration array, and assign the resulting array to a variable named `a_central`."
   ]
  },
  {
   "cell_type": "code",
   "execution_count": null,
   "metadata": {
    "deletable": false,
    "nbgrader": {
     "cell_type": "code",
     "checksum": "d74545d43eb277fbbe1c00fb512b7043",
     "grade": false,
     "grade_id": "cell-5753015bdf3f95b8",
     "locked": false,
     "schema_version": 3,
     "solution": true
    }
   },
   "outputs": [],
   "source": [
    "# YOUR CODE HERE\n",
    "raise NotImplementedError()"
   ]
  },
  {
   "cell_type": "code",
   "execution_count": null,
   "metadata": {
    "deletable": false,
    "editable": false,
    "nbgrader": {
     "cell_type": "code",
     "checksum": "6a7553049459c62432902d630ef2f2b2",
     "grade": true,
     "grade_id": "1-b",
     "locked": true,
     "points": 10,
     "schema_version": 3,
     "solution": false
    }
   },
   "outputs": [],
   "source": []
  },
  {
   "cell_type": "markdown",
   "metadata": {
    "deletable": false,
    "editable": false,
    "nbgrader": {
     "cell_type": "markdown",
     "checksum": "2d5c7abf84307a416d98dad027d5ad43",
     "grade": false,
     "grade_id": "cell-1b19a4122e55f0d2",
     "locked": true,
     "schema_version": 3,
     "solution": false
    }
   },
   "source": [
    "c) Compute the mean of the `a_central` array and assign the result to a variable named `a_central_mean`."
   ]
  },
  {
   "cell_type": "code",
   "execution_count": null,
   "metadata": {
    "deletable": false,
    "nbgrader": {
     "cell_type": "code",
     "checksum": "0bf47d867ff1e39b7affc6dbc9eb62dd",
     "grade": false,
     "grade_id": "cell-7eb6add5504dcaa0",
     "locked": false,
     "schema_version": 3,
     "solution": true
    }
   },
   "outputs": [],
   "source": [
    "# YOUR CODE HERE\n",
    "raise NotImplementedError()"
   ]
  },
  {
   "cell_type": "code",
   "execution_count": null,
   "metadata": {
    "deletable": false,
    "editable": false,
    "nbgrader": {
     "cell_type": "code",
     "checksum": "d80ce1a960d1439c731a45e4eeec8d17",
     "grade": true,
     "grade_id": "1-c",
     "locked": true,
     "points": 10,
     "schema_version": 3,
     "solution": false
    }
   },
   "outputs": [],
   "source": []
  },
  {
   "cell_type": "markdown",
   "metadata": {
    "deletable": false,
    "editable": false,
    "nbgrader": {
     "cell_type": "markdown",
     "checksum": "ff4e50bbd86700658e94bf0ed9ca44fa",
     "grade": false,
     "grade_id": "cell-7998eba913ae048e",
     "locked": true,
     "schema_version": 3,
     "solution": false
    }
   },
   "source": [
    "d) Using NumPy slicing and the following approximation of the first derivative, compute the velocity array, and assign the result to a variable named `v_fwd_sec`.\n",
    "\n",
    "\\begin{equation}\n",
    "    v_i = \\frac{-y_{i+2} + 4y_{i+1}-3y_{i}}{2\\Delta t}\n",
    "\\end{equation}"
   ]
  },
  {
   "cell_type": "code",
   "execution_count": null,
   "metadata": {
    "deletable": false,
    "nbgrader": {
     "cell_type": "code",
     "checksum": "8e7a39f5686b29af9b67f3a18ade1c0e",
     "grade": false,
     "grade_id": "cell-f53d15a2e32c35d4",
     "locked": false,
     "schema_version": 3,
     "solution": true
    }
   },
   "outputs": [],
   "source": [
    "# YOUR CODE HERE\n",
    "raise NotImplementedError()"
   ]
  },
  {
   "cell_type": "code",
   "execution_count": null,
   "metadata": {
    "deletable": false,
    "editable": false,
    "nbgrader": {
     "cell_type": "code",
     "checksum": "2c1d246362d3d086bc6937e4bc8c7f8d",
     "grade": true,
     "grade_id": "1-d",
     "locked": true,
     "points": 10,
     "schema_version": 3,
     "solution": false
    }
   },
   "outputs": [],
   "source": []
  },
  {
   "cell_type": "markdown",
   "metadata": {
    "deletable": false,
    "editable": false,
    "nbgrader": {
     "cell_type": "markdown",
     "checksum": "f112b93621e5ec8afedaa98d754f79e1",
     "grade": false,
     "grade_id": "cell-92b7376ac76745a7",
     "locked": true,
     "schema_version": 3,
     "solution": false
    }
   },
   "source": [
    "e) Using NumPy slicing, compute the acceleration array by applying the scheme defined in d) to the acceleration array, and assign the resulting array to a variable named `a_fwd_sec`."
   ]
  },
  {
   "cell_type": "code",
   "execution_count": null,
   "metadata": {
    "deletable": false,
    "nbgrader": {
     "cell_type": "code",
     "checksum": "f8028bad8d798f799f6d76df5163892c",
     "grade": false,
     "grade_id": "cell-fe298d0b0ace7b6e",
     "locked": false,
     "schema_version": 3,
     "solution": true
    }
   },
   "outputs": [],
   "source": [
    "# YOUR CODE HERE\n",
    "raise NotImplementedError()"
   ]
  },
  {
   "cell_type": "code",
   "execution_count": null,
   "metadata": {
    "deletable": false,
    "editable": false,
    "nbgrader": {
     "cell_type": "code",
     "checksum": "9c88f7f84763fd75f28d97c9e624a74b",
     "grade": true,
     "grade_id": "1-e",
     "locked": true,
     "points": 10,
     "schema_version": 3,
     "solution": false
    }
   },
   "outputs": [],
   "source": []
  },
  {
   "cell_type": "markdown",
   "metadata": {
    "deletable": false,
    "editable": false,
    "nbgrader": {
     "cell_type": "markdown",
     "checksum": "c84fc544223276170b5463ed5f30b2cb",
     "grade": false,
     "grade_id": "cell-5cb8d56d08ffe0ab",
     "locked": true,
     "schema_version": 3,
     "solution": false
    }
   },
   "source": [
    "f) Compute the mean of the `a_fwd_sec` array and assign the result to a variable named `a_fwd_sec_mean`.\n"
   ]
  },
  {
   "cell_type": "code",
   "execution_count": null,
   "metadata": {
    "deletable": false,
    "nbgrader": {
     "cell_type": "code",
     "checksum": "d26961fb3cb9fe6d951a83369275406c",
     "grade": false,
     "grade_id": "cell-520e9a503e475be5",
     "locked": false,
     "schema_version": 3,
     "solution": true
    }
   },
   "outputs": [],
   "source": [
    "# YOUR CODE HERE\n",
    "raise NotImplementedError()"
   ]
  },
  {
   "cell_type": "code",
   "execution_count": null,
   "metadata": {
    "deletable": false,
    "editable": false,
    "nbgrader": {
     "cell_type": "code",
     "checksum": "5d549693cec9d6ec5ba57654576619a4",
     "grade": true,
     "grade_id": "1-f",
     "locked": true,
     "points": 10,
     "schema_version": 3,
     "solution": false
    }
   },
   "outputs": [],
   "source": []
  },
  {
   "cell_type": "markdown",
   "metadata": {
    "deletable": false,
    "editable": false,
    "nbgrader": {
     "cell_type": "markdown",
     "checksum": "95a1f8ce41b5620705f31d948733be3b",
     "grade": false,
     "grade_id": "cell-4c8e8da0656078fa",
     "locked": true,
     "schema_version": 3,
     "solution": false
    }
   },
   "source": [
    "# Exercise 2\n",
    "\n",
    "In exercise 2 to obtain the acceleration we applied a scheme of a first derivative twice, first to the position and then to the velocity. However, we can obtain the acceleration with approximations of the second derivative directly. \n",
    "\n",
    "**Note:** We still working with the `y` and `t` array from exercise 2. \n"
   ]
  },
  {
   "cell_type": "markdown",
   "metadata": {
    "deletable": false,
    "editable": false,
    "nbgrader": {
     "cell_type": "markdown",
     "checksum": "fde607b6d0e6e4468fa628224540a3fa",
     "grade": false,
     "grade_id": "cell-afac5f87ef62045f",
     "locked": true,
     "schema_version": 3,
     "solution": false
    }
   },
   "source": [
    "a) Using NumPy slicing and the following approximation of the second derivative, compute the acceleration array, and assign the result to a variable named `a_cent_sec`.\n",
    "\n",
    "\\begin{equation}\n",
    "    a_i = \\frac{y_{i+1} - 2y_{i} + y_{i-1}}{(\\Delta t)^2}\n",
    "\\end{equation}"
   ]
  },
  {
   "cell_type": "code",
   "execution_count": null,
   "metadata": {
    "deletable": false,
    "nbgrader": {
     "cell_type": "code",
     "checksum": "846dd397db5ce84ddefe90dba8bc5613",
     "grade": false,
     "grade_id": "cell-870447e92663f7b3",
     "locked": false,
     "schema_version": 3,
     "solution": true
    }
   },
   "outputs": [],
   "source": [
    "# YOUR CODE HERE\n",
    "raise NotImplementedError()"
   ]
  },
  {
   "cell_type": "code",
   "execution_count": null,
   "metadata": {
    "deletable": false,
    "editable": false,
    "nbgrader": {
     "cell_type": "code",
     "checksum": "d66fa6b736db31c6fe5653770c1dc516",
     "grade": true,
     "grade_id": "2-a",
     "locked": true,
     "points": 10,
     "schema_version": 3,
     "solution": false
    }
   },
   "outputs": [],
   "source": []
  },
  {
   "cell_type": "markdown",
   "metadata": {
    "deletable": false,
    "editable": false,
    "nbgrader": {
     "cell_type": "markdown",
     "checksum": "c7ebbaa94c585d98826ffb5502245dcc",
     "grade": false,
     "grade_id": "cell-99cf9ea176c043e6",
     "locked": true,
     "schema_version": 3,
     "solution": false
    }
   },
   "source": [
    "b) Compute the mean of the `a_cent_sec` array and assign the result to a variable named `a_cent_sec_mean`."
   ]
  },
  {
   "cell_type": "code",
   "execution_count": null,
   "metadata": {
    "deletable": false,
    "nbgrader": {
     "cell_type": "code",
     "checksum": "fe140b3319c47a532ff23b01d8081e3d",
     "grade": false,
     "grade_id": "cell-277f5e4f75b69fd5",
     "locked": false,
     "schema_version": 3,
     "solution": true
    }
   },
   "outputs": [],
   "source": [
    "# YOUR CODE HERE\n",
    "raise NotImplementedError()"
   ]
  },
  {
   "cell_type": "code",
   "execution_count": null,
   "metadata": {
    "deletable": false,
    "editable": false,
    "nbgrader": {
     "cell_type": "code",
     "checksum": "fc5e22f311d6bfd64e024d25089de551",
     "grade": true,
     "grade_id": "2-b",
     "locked": true,
     "points": 10,
     "schema_version": 3,
     "solution": false
    }
   },
   "outputs": [],
   "source": []
  },
  {
   "cell_type": "markdown",
   "metadata": {
    "deletable": false,
    "editable": false,
    "nbgrader": {
     "cell_type": "markdown",
     "checksum": "34b9639a52e9b4cea364a8c78c776118",
     "grade": false,
     "grade_id": "cell-3cc93bde14f05dee",
     "locked": true,
     "schema_version": 3,
     "solution": false
    }
   },
   "source": [
    "c) Using NumPy slicing and the following approximation of the second derivative, compute the acceleration array, and assign the result to a variable named `a_fwd`.\n",
    "\n",
    "\\begin{equation}\n",
    "    a_i = \\frac{y_{i+2} - 2y_{i+1} + y_{i}}{(\\Delta t)^2}\n",
    "\\end{equation}"
   ]
  },
  {
   "cell_type": "code",
   "execution_count": null,
   "metadata": {
    "deletable": false,
    "nbgrader": {
     "cell_type": "code",
     "checksum": "fa69926ed8efda05437b36fc572d68af",
     "grade": false,
     "grade_id": "cell-ccdf91e868d6c2e5",
     "locked": false,
     "schema_version": 3,
     "solution": true
    }
   },
   "outputs": [],
   "source": [
    "# YOUR CODE HERE\n",
    "raise NotImplementedError()"
   ]
  },
  {
   "cell_type": "code",
   "execution_count": null,
   "metadata": {
    "deletable": false,
    "editable": false,
    "nbgrader": {
     "cell_type": "code",
     "checksum": "af7aa4045d5482e3807c093b011665dc",
     "grade": true,
     "grade_id": "2-c",
     "locked": true,
     "points": 10,
     "schema_version": 3,
     "solution": false
    }
   },
   "outputs": [],
   "source": []
  },
  {
   "cell_type": "markdown",
   "metadata": {
    "deletable": false,
    "editable": false,
    "nbgrader": {
     "cell_type": "markdown",
     "checksum": "8370bda62e885f37694f8fce268d462b",
     "grade": false,
     "grade_id": "cell-b5d52dc66b77ae40",
     "locked": true,
     "schema_version": 3,
     "solution": false
    }
   },
   "source": [
    "d) Compute the mean of the `a_fwd` array and assign the result to a variable named `a_fwd_mean`."
   ]
  },
  {
   "cell_type": "code",
   "execution_count": null,
   "metadata": {
    "deletable": false,
    "nbgrader": {
     "cell_type": "code",
     "checksum": "6545da19f8c0fe3c8f8d51e53a5106ce",
     "grade": false,
     "grade_id": "cell-eba3a4bd6009c7c7",
     "locked": false,
     "schema_version": 3,
     "solution": true
    }
   },
   "outputs": [],
   "source": [
    "# YOUR CODE HERE\n",
    "raise NotImplementedError()"
   ]
  },
  {
   "cell_type": "code",
   "execution_count": null,
   "metadata": {
    "deletable": false,
    "editable": false,
    "nbgrader": {
     "cell_type": "code",
     "checksum": "028f5bc7af500e118ebef7eb5cc9c726",
     "grade": true,
     "grade_id": "2-d",
     "locked": true,
     "points": 10,
     "schema_version": 3,
     "solution": false
    }
   },
   "outputs": [],
   "source": []
  },
  {
   "cell_type": "markdown",
   "metadata": {
    "deletable": false,
    "editable": false,
    "nbgrader": {
     "cell_type": "markdown",
     "checksum": "511b07103017f6b17f32c93d27f363aa",
     "grade": false,
     "grade_id": "cell-1649eb138cd450e9",
     "locked": true,
     "schema_version": 3,
     "solution": false
    }
   },
   "source": [
    "## Remember!!\n",
    "\n",
    "1. Before you turn in this homework, make sure everything runs as expected. To do this, go to the _Kernel_ menu option, and select **\"Restart & Run All**. \n",
    "\n",
    "2. Make sure you filled in any place that says YOUR CODE HERE or \"YOUR ANSWER HERE\", as well as your name at the beginning of the notebook.\n",
    "\n",
    "3. DO NOT change the name of the file! Make sure your submission is still named `engcomp3hw2.ipynb`."
   ]
  }
 ],
 "metadata": {
  "kernelspec": {
   "display_name": "Python 3 (ipykernel)",
   "language": "python",
   "name": "python3"
  },
  "language_info": {
   "codemirror_mode": {
    "name": "ipython",
    "version": 3
   },
   "file_extension": ".py",
   "mimetype": "text/x-python",
   "name": "python",
   "nbconvert_exporter": "python",
   "pygments_lexer": "ipython3",
   "version": "3.9.7"
  }
 },
 "nbformat": 4,
 "nbformat_minor": 2
}
