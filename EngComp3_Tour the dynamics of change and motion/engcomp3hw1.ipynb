{
 "cells": [
  {
   "cell_type": "markdown",
   "metadata": {
    "deletable": false,
    "editable": false,
    "nbgrader": {
     "cell_type": "markdown",
     "checksum": "8821b7940e2b1f92d52768847953e22b",
     "grade": false,
     "grade_id": "cell-5a9bac592495ec8c",
     "locked": true,
     "schema_version": 3,
     "solution": false
    }
   },
   "source": [
    "Before you turn in this homework, make sure everything runs as expected. First, **restart the kernel** (in the menubar, select Kernel$\\rightarrow$Restart) and then **run all cells** (in the menubar, select Cell$\\rightarrow$Run All).\n",
    "\n",
    "Make sure you execute every single code cell, in order, filling with your solutions in any place that says `YOUR CODE HERE`, and always DELETE the line that says:\n",
    "\n",
    "```python\n",
    "raise NotImplementedError()\n",
    "```\n",
    "The purpose of this line is to tell you if you forgot to answer a question (it will throw an error if the line is there)\n",
    "\n",
    "**IMPORTANT**: DO NOT DELETE ANY CELL.\n",
    "\n",
    "Fill your name below:"
   ]
  },
  {
   "cell_type": "code",
   "execution_count": null,
   "metadata": {},
   "outputs": [],
   "source": [
    "NAME = \"\""
   ]
  },
  {
   "cell_type": "markdown",
   "metadata": {
    "deletable": false,
    "editable": false,
    "nbgrader": {
     "cell_type": "markdown",
     "checksum": "32ba146d3df07513a788854014dab3c1",
     "grade": false,
     "grade_id": "cell-178e7f20824c0376",
     "locked": true,
     "schema_version": 3,
     "solution": false
    }
   },
   "source": [
    "# Before you start \n",
    "\n",
    "For this homework, we will need to import some libraries. You need to execute the following cell only once; you don't need to copy this in every cell you run."
   ]
  },
  {
   "cell_type": "code",
   "execution_count": null,
   "metadata": {},
   "outputs": [],
   "source": [
    "import numpy "
   ]
  },
  {
   "cell_type": "markdown",
   "metadata": {
    "deletable": false,
    "editable": false,
    "nbgrader": {
     "cell_type": "markdown",
     "checksum": "35d93e33fa058d69cebc600f573f6655",
     "grade": false,
     "grade_id": "cell-e6bc308da4e2caea",
     "locked": true,
     "schema_version": 3,
     "solution": false
    }
   },
   "source": [
    "# Exercise 1\n",
    "\n",
    "We recomend for this exercise that before writing the code you write in a piece of paper the first 4 elements of the stencil in terms of x (without replacing the actual value) to get an idea on how to do the slicing. After you figure the slicing out, print the resulting array and compare the values with your values in the piece of paper, but now replacing the $x_i$ values. In other words if you have $x_0 + x_1$ in your paper sheet calculations, replace it for $0 + 1$ and so on, following the values in the x array defined below. \n",
    "\n",
    "Given the following array:"
   ]
  },
  {
   "cell_type": "code",
   "execution_count": null,
   "metadata": {},
   "outputs": [],
   "source": [
    "x = numpy.arange(0,11, 1)\n",
    "x"
   ]
  },
  {
   "cell_type": "markdown",
   "metadata": {
    "deletable": false,
    "editable": false,
    "nbgrader": {
     "cell_type": "markdown",
     "checksum": "c8a98d3077169777265c8b2d7bfbc278",
     "grade": false,
     "grade_id": "cell-778c689a56ff68ca",
     "locked": true,
     "schema_version": 3,
     "solution": false
    }
   },
   "source": [
    "a) Using NumPy slicing, compute the following stencil operation (formula) and assign the resulting array to a variable named `alpha`:\n",
    "\n",
    "\\begin{equation}\n",
    "    \\text{alpha} = x_i + x_{i+1}\n",
    "\\end{equation}"
   ]
  },
  {
   "cell_type": "code",
   "execution_count": null,
   "metadata": {
    "deletable": false,
    "nbgrader": {
     "cell_type": "code",
     "checksum": "fdaaaa11b4f8d853aeb8a9507e24b19a",
     "grade": false,
     "grade_id": "cell-cb347b6ef8dd9158",
     "locked": false,
     "schema_version": 3,
     "solution": true
    }
   },
   "outputs": [],
   "source": [
    "# YOUR CODE HERE\n",
    "raise NotImplementedError()"
   ]
  },
  {
   "cell_type": "code",
   "execution_count": null,
   "metadata": {
    "deletable": false,
    "editable": false,
    "nbgrader": {
     "cell_type": "code",
     "checksum": "e4f26f957dde1da15f6c237f2594400e",
     "grade": true,
     "grade_id": "1-a",
     "locked": true,
     "points": 5,
     "schema_version": 3,
     "solution": false
    }
   },
   "outputs": [],
   "source": []
  },
  {
   "cell_type": "markdown",
   "metadata": {
    "deletable": false,
    "editable": false,
    "nbgrader": {
     "cell_type": "markdown",
     "checksum": "38d343d2ce667caeabf66279e6832b3a",
     "grade": false,
     "grade_id": "cell-5e7ce92db2754430",
     "locked": true,
     "schema_version": 3,
     "solution": false
    }
   },
   "source": [
    "b) Using NumPy slicing, compute the following stencil operation (formula) and assign the resulting array to a variable named `beta`:\n",
    "\n",
    "\\begin{equation}\n",
    "    \\text{beta} = x_i + x_{i-1}\n",
    "\\end{equation}"
   ]
  },
  {
   "cell_type": "code",
   "execution_count": null,
   "metadata": {
    "deletable": false,
    "nbgrader": {
     "cell_type": "code",
     "checksum": "2dc0b3778ea3079fdd25df4be7a7d548",
     "grade": false,
     "grade_id": "cell-297a7f00af13613b",
     "locked": false,
     "schema_version": 3,
     "solution": true
    }
   },
   "outputs": [],
   "source": [
    "# YOUR CODE HERE\n",
    "raise NotImplementedError()"
   ]
  },
  {
   "cell_type": "code",
   "execution_count": null,
   "metadata": {
    "deletable": false,
    "editable": false,
    "nbgrader": {
     "cell_type": "code",
     "checksum": "6a7553049459c62432902d630ef2f2b2",
     "grade": true,
     "grade_id": "1-b",
     "locked": true,
     "points": 10,
     "schema_version": 3,
     "solution": false
    }
   },
   "outputs": [],
   "source": []
  },
  {
   "cell_type": "markdown",
   "metadata": {
    "deletable": false,
    "editable": false,
    "nbgrader": {
     "cell_type": "markdown",
     "checksum": "d64a0ca201cd842d125fb73289a792c3",
     "grade": false,
     "grade_id": "cell-3b345f0dcf1b01af",
     "locked": true,
     "schema_version": 3,
     "solution": false
    }
   },
   "source": [
    "c) Using NumPy slicing, compute the following stencil operation (formula) and assign the resulting array to a variable named `delta`:\n",
    "\n",
    "\\begin{equation}\n",
    "    \\text{delta} = x_{i-1} - x_{i+1}\n",
    "\\end{equation}"
   ]
  },
  {
   "cell_type": "code",
   "execution_count": null,
   "metadata": {
    "deletable": false,
    "nbgrader": {
     "cell_type": "code",
     "checksum": "f9da14dc67e46a40e8df92bc3c0b2d3e",
     "grade": false,
     "grade_id": "cell-ec6a1dc12835e1c5",
     "locked": false,
     "schema_version": 3,
     "solution": true
    }
   },
   "outputs": [],
   "source": [
    "# YOUR CODE HERE\n",
    "raise NotImplementedError()"
   ]
  },
  {
   "cell_type": "code",
   "execution_count": null,
   "metadata": {
    "deletable": false,
    "editable": false,
    "nbgrader": {
     "cell_type": "code",
     "checksum": "d80ce1a960d1439c731a45e4eeec8d17",
     "grade": true,
     "grade_id": "1-c",
     "locked": true,
     "points": 10,
     "schema_version": 3,
     "solution": false
    }
   },
   "outputs": [],
   "source": []
  },
  {
   "cell_type": "markdown",
   "metadata": {
    "deletable": false,
    "editable": false,
    "nbgrader": {
     "cell_type": "markdown",
     "checksum": "7e9eedde39d577b404e0b423f53c73e9",
     "grade": false,
     "grade_id": "cell-f7dd173efc5a4d85",
     "locked": true,
     "schema_version": 3,
     "solution": false
    }
   },
   "source": [
    "d) Using NumPy slicing, compute the following stencil operation (formula) and assign the resulting array to a variable named `zeta`:\n",
    "\n",
    "\\begin{equation}\n",
    "    \\text{zeta} = x_{i-1} + x_i + x_{i+1}\n",
    "\\end{equation}"
   ]
  },
  {
   "cell_type": "code",
   "execution_count": null,
   "metadata": {
    "deletable": false,
    "nbgrader": {
     "cell_type": "code",
     "checksum": "efe1c38dc4e2fa649a22b62c7bbb2355",
     "grade": false,
     "grade_id": "cell-a42b782c3d4a893b",
     "locked": false,
     "schema_version": 3,
     "solution": true
    }
   },
   "outputs": [],
   "source": [
    "# YOUR CODE HERE\n",
    "raise NotImplementedError()"
   ]
  },
  {
   "cell_type": "code",
   "execution_count": null,
   "metadata": {
    "deletable": false,
    "editable": false,
    "nbgrader": {
     "cell_type": "code",
     "checksum": "2c1d246362d3d086bc6937e4bc8c7f8d",
     "grade": true,
     "grade_id": "1-d",
     "locked": true,
     "points": 10,
     "schema_version": 3,
     "solution": false
    }
   },
   "outputs": [],
   "source": []
  },
  {
   "cell_type": "markdown",
   "metadata": {
    "deletable": false,
    "editable": false,
    "nbgrader": {
     "cell_type": "markdown",
     "checksum": "acdd7ab2cc03eb44ed6c678af3b83164",
     "grade": false,
     "grade_id": "cell-b9bd569b9eaedd87",
     "locked": true,
     "schema_version": 3,
     "solution": false
    }
   },
   "source": [
    "e) Using NumPy slicing, compute the following stencil operation (formula) and assign the resulting array to a variable named `theta`:\n",
    "\n",
    "\\begin{equation}\n",
    "    \\text{theta} = x_i - x_{i-2}\n",
    "\\end{equation}"
   ]
  },
  {
   "cell_type": "code",
   "execution_count": null,
   "metadata": {
    "deletable": false,
    "nbgrader": {
     "cell_type": "code",
     "checksum": "b45c1ba0d53400d6ccb69feabc15577a",
     "grade": false,
     "grade_id": "cell-f4bd1a991de95cfe",
     "locked": false,
     "schema_version": 3,
     "solution": true
    }
   },
   "outputs": [],
   "source": [
    "# YOUR CODE HERE\n",
    "raise NotImplementedError()"
   ]
  },
  {
   "cell_type": "code",
   "execution_count": null,
   "metadata": {
    "deletable": false,
    "editable": false,
    "nbgrader": {
     "cell_type": "code",
     "checksum": "9c88f7f84763fd75f28d97c9e624a74b",
     "grade": true,
     "grade_id": "1-e",
     "locked": true,
     "points": 10,
     "schema_version": 3,
     "solution": false
    }
   },
   "outputs": [],
   "source": []
  },
  {
   "cell_type": "markdown",
   "metadata": {
    "deletable": false,
    "editable": false,
    "nbgrader": {
     "cell_type": "markdown",
     "checksum": "4f96122a9049b1b96602db3017163a0e",
     "grade": false,
     "grade_id": "cell-fb82133e62c4d9c5",
     "locked": true,
     "schema_version": 3,
     "solution": false
    }
   },
   "source": [
    "f) Using NumPy slicing, compute the following stencil operation (formula) and assign the resulting array to a variable named `omega`:\n",
    "\n",
    "\\begin{equation}\n",
    "    \\text{omega} = x_{i-1} + x_{i+2}\n",
    "\\end{equation}"
   ]
  },
  {
   "cell_type": "code",
   "execution_count": null,
   "metadata": {
    "deletable": false,
    "nbgrader": {
     "cell_type": "code",
     "checksum": "ad1ca04a386127c631e3cd3987ecf971",
     "grade": false,
     "grade_id": "cell-6d53e9b395802bab",
     "locked": false,
     "schema_version": 3,
     "solution": true
    }
   },
   "outputs": [],
   "source": [
    "# YOUR CODE HERE\n",
    "raise NotImplementedError()"
   ]
  },
  {
   "cell_type": "code",
   "execution_count": null,
   "metadata": {
    "deletable": false,
    "editable": false,
    "nbgrader": {
     "cell_type": "code",
     "checksum": "5d549693cec9d6ec5ba57654576619a4",
     "grade": true,
     "grade_id": "1-f",
     "locked": true,
     "points": 10,
     "schema_version": 3,
     "solution": false
    }
   },
   "outputs": [],
   "source": []
  },
  {
   "cell_type": "markdown",
   "metadata": {
    "deletable": false,
    "editable": false,
    "nbgrader": {
     "cell_type": "markdown",
     "checksum": "dfa3c82843a39221e7e61dd973477fb4",
     "grade": false,
     "grade_id": "cell-341d58b0ca6e56fa",
     "locked": true,
     "schema_version": 3,
     "solution": false
    }
   },
   "source": [
    "g) Using NumPy slicing, compute the following stencil operation (formula) and assign the resulting array to a variable named `rho`:\n",
    "\n",
    "\\begin{equation}\n",
    "    \\text{rho} = x_{i+2} + x_i + x_{i-1}  \n",
    "\\end{equation}"
   ]
  },
  {
   "cell_type": "code",
   "execution_count": null,
   "metadata": {
    "deletable": false,
    "nbgrader": {
     "cell_type": "code",
     "checksum": "0abda8cfd806f8188683864197b7c6c7",
     "grade": false,
     "grade_id": "cell-5ab524fd5687d67e",
     "locked": false,
     "schema_version": 3,
     "solution": true
    }
   },
   "outputs": [],
   "source": [
    "# YOUR CODE HERE\n",
    "raise NotImplementedError()"
   ]
  },
  {
   "cell_type": "code",
   "execution_count": null,
   "metadata": {
    "deletable": false,
    "editable": false,
    "nbgrader": {
     "cell_type": "code",
     "checksum": "0ffedf45bf6f5d7d5388a432be284d5f",
     "grade": true,
     "grade_id": "1-g",
     "locked": true,
     "points": 10,
     "schema_version": 3,
     "solution": false
    }
   },
   "outputs": [],
   "source": []
  },
  {
   "cell_type": "markdown",
   "metadata": {
    "deletable": false,
    "editable": false,
    "nbgrader": {
     "cell_type": "markdown",
     "checksum": "e472ad76d7b66fb4273c861774d07fe8",
     "grade": false,
     "grade_id": "cell-c3252a55500ac6a5",
     "locked": true,
     "schema_version": 3,
     "solution": false
    }
   },
   "source": [
    "h) Using NumPy slicing, compute the following stencil operation (formula) and assign the resulting array to a variable named `phi`:\n",
    "\n",
    "\\begin{equation}\n",
    "    \\text{phi} = x_{i+2} + x_i + x_{i-2}  \n",
    "\\end{equation}"
   ]
  },
  {
   "cell_type": "code",
   "execution_count": null,
   "metadata": {
    "deletable": false,
    "nbgrader": {
     "cell_type": "code",
     "checksum": "a562c41c07a1bba9f61b747fb862a6db",
     "grade": false,
     "grade_id": "cell-6f281d5d1ad59a92",
     "locked": false,
     "schema_version": 3,
     "solution": true
    }
   },
   "outputs": [],
   "source": [
    "# YOUR CODE HERE\n",
    "raise NotImplementedError()"
   ]
  },
  {
   "cell_type": "code",
   "execution_count": null,
   "metadata": {
    "deletable": false,
    "editable": false,
    "nbgrader": {
     "cell_type": "code",
     "checksum": "e96a40fa1ed7b173b2bc6a6f03a36a96",
     "grade": true,
     "grade_id": "1-h",
     "locked": true,
     "points": 10,
     "schema_version": 3,
     "solution": false
    }
   },
   "outputs": [],
   "source": []
  },
  {
   "cell_type": "markdown",
   "metadata": {
    "deletable": false,
    "editable": false,
    "nbgrader": {
     "cell_type": "markdown",
     "checksum": "1793b4568df1d431af6b7bcf74a51ec8",
     "grade": false,
     "grade_id": "cell-9c6d3d9945997438",
     "locked": true,
     "schema_version": 3,
     "solution": false
    }
   },
   "source": [
    "# Exercise 2\n",
    "\n",
    "In lesson 1 module 3 we used the following approximation for the velocity and acceleration at a point $i$\n",
    "\n",
    "\\begin{equation}\n",
    "    v_i = \\frac{y_{i+1}-y_i}{\\Delta t}, \\qquad a_i = \\frac{v_{i+1}-v_i}{\\Delta t}\n",
    "\\end{equation}\n",
    "\n",
    "to compute the velocity and acceleration of high-esolution data of falling ball. \n",
    "\n",
    "In this exercise you will use this approximation of the derivative to compute the velocity and acceleration of a subset high-resolution data. The following arrays contain data points each 10 elements of the original data, before the first bounce. "
   ]
  },
  {
   "cell_type": "code",
   "execution_count": null,
   "metadata": {},
   "outputs": [],
   "source": [
    "y = numpy.array([ 1.6       ,  1.59950951,  1.59803905,  1.59558869,  1.59215854,\n",
    "                  1.58774878,  1.5823596 ,  1.57599128,  1.56864411,  1.56031845,\n",
    "                  1.5510147 ,  1.5407333 ,  1.52947474,  1.51723957,  1.50402837,\n",
    "                  1.48984177,  1.47468045,  1.45854514,  1.44143659,  1.42335564,\n",
    "                  1.40430313,  1.38427998,  1.36328713,  1.3413256 ,  1.3183964 ,\n",
    "                  1.29450064,  1.26963945,  1.24381399,  1.21702549,  1.18927522,\n",
    "                  1.16056447,  1.1308946 ,  1.10026701,  1.06868312,  1.03614442,\n",
    "                  1.00265243,  0.96820871,  0.93281486,  0.89647254,  0.85918343,\n",
    "                  0.82094926,  0.7817718 ,  0.74165285,  0.70059427,  0.65859794,\n",
    "                  0.61566579,  0.5717998 ,  0.52700195,  0.4812743 ,  0.43461893,\n",
    "                  0.38703796,  0.33853353,  0.28910785,  0.23876314,  0.18750167,\n",
    "                  0.13532573,  0.08223767,  0.02823984])"
   ]
  },
  {
   "cell_type": "code",
   "execution_count": null,
   "metadata": {},
   "outputs": [],
   "source": [
    "t = numpy.arange(0., 0.58, 0.01)"
   ]
  },
  {
   "cell_type": "markdown",
   "metadata": {
    "deletable": false,
    "editable": false,
    "nbgrader": {
     "cell_type": "markdown",
     "checksum": "1f40178e961f77a915026cc0980e56c6",
     "grade": false,
     "grade_id": "cell-87321921688f062b",
     "locked": true,
     "schema_version": 3,
     "solution": false
    }
   },
   "source": [
    "**Warning:** Keep in mind that `dt` needs to be computed. `dt` is a float that is the difference between two consecutive points in the `t` array. \n"
   ]
  },
  {
   "cell_type": "markdown",
   "metadata": {
    "deletable": false,
    "editable": false,
    "nbgrader": {
     "cell_type": "markdown",
     "checksum": "a1e7db7119318df4cb85f98d1cb3b2b5",
     "grade": false,
     "grade_id": "cell-6f4f31627cc6720e",
     "locked": true,
     "schema_version": 3,
     "solution": false
    }
   },
   "source": [
    "Given the arrays `y` and `t` defined above:"
   ]
  },
  {
   "cell_type": "markdown",
   "metadata": {
    "deletable": false,
    "editable": false,
    "nbgrader": {
     "cell_type": "markdown",
     "checksum": "52b14286cb06789192cca9c2ab9eb150",
     "grade": false,
     "grade_id": "cell-9d3aff0b3c5e4326",
     "locked": true,
     "schema_version": 3,
     "solution": false
    }
   },
   "source": [
    "a) Using NumPy slicing and the following approximation of the first derivative, compute the velocity array, and assign the result to a variable named `v_forward`.\n",
    "\n",
    "\\begin{equation}\n",
    "    v_i = \\frac{y_{i+1}-y_i}{\\Delta t}\n",
    "\\end{equation}"
   ]
  },
  {
   "cell_type": "code",
   "execution_count": null,
   "metadata": {
    "deletable": false,
    "nbgrader": {
     "cell_type": "code",
     "checksum": "ef54e7041746cf20cd3baa87ae37602d",
     "grade": false,
     "grade_id": "cell-ce4b3ea66b4230f4",
     "locked": false,
     "schema_version": 3,
     "solution": true
    }
   },
   "outputs": [],
   "source": [
    "# YOUR CODE HERE\n",
    "raise NotImplementedError()"
   ]
  },
  {
   "cell_type": "code",
   "execution_count": null,
   "metadata": {
    "deletable": false,
    "editable": false,
    "nbgrader": {
     "cell_type": "code",
     "checksum": "d66fa6b736db31c6fe5653770c1dc516",
     "grade": true,
     "grade_id": "2-a",
     "locked": true,
     "points": 10,
     "schema_version": 3,
     "solution": false
    }
   },
   "outputs": [],
   "source": []
  },
  {
   "cell_type": "markdown",
   "metadata": {
    "deletable": false,
    "editable": false,
    "nbgrader": {
     "cell_type": "markdown",
     "checksum": "3a54f0bf7f456877c34fc223cc3b9c6d",
     "grade": false,
     "grade_id": "cell-ec8a032e949229db",
     "locked": true,
     "schema_version": 3,
     "solution": false
    }
   },
   "source": [
    "b) Using NumPy slicing and the following approximation of the first derivative, compute the velocity array, and assign the result to a variable named `a_forward`.\n",
    "\n",
    "\\begin{equation}\n",
    "    a_i = \\frac{v_{i+1}-v_i}{\\Delta t}\n",
    "\\end{equation}\n"
   ]
  },
  {
   "cell_type": "code",
   "execution_count": null,
   "metadata": {
    "deletable": false,
    "nbgrader": {
     "cell_type": "code",
     "checksum": "74362365ded749f320a611af4d9a08a3",
     "grade": false,
     "grade_id": "cell-17d2afe6d27be2ee",
     "locked": false,
     "schema_version": 3,
     "solution": true
    }
   },
   "outputs": [],
   "source": [
    "# YOUR CODE HERE\n",
    "raise NotImplementedError()"
   ]
  },
  {
   "cell_type": "code",
   "execution_count": null,
   "metadata": {
    "deletable": false,
    "editable": false,
    "nbgrader": {
     "cell_type": "code",
     "checksum": "fc5e22f311d6bfd64e024d25089de551",
     "grade": true,
     "grade_id": "2-b",
     "locked": true,
     "points": 10,
     "schema_version": 3,
     "solution": false
    }
   },
   "outputs": [],
   "source": []
  },
  {
   "cell_type": "markdown",
   "metadata": {
    "deletable": false,
    "editable": false,
    "nbgrader": {
     "cell_type": "markdown",
     "checksum": "eb0ee1ef67bec1f04e09f3293957ddc2",
     "grade": false,
     "grade_id": "cell-7781be641186f9e3",
     "locked": true,
     "schema_version": 3,
     "solution": false
    }
   },
   "source": [
    "c) Compute the mean of the `a_forward` array and assign the result to a variable named `a_mean`.\n"
   ]
  },
  {
   "cell_type": "code",
   "execution_count": null,
   "metadata": {
    "deletable": false,
    "nbgrader": {
     "cell_type": "code",
     "checksum": "9c5be800a26ae513fc458de1f615d71a",
     "grade": false,
     "grade_id": "cell-379ab2a5a3cafcc4",
     "locked": false,
     "schema_version": 3,
     "solution": true
    }
   },
   "outputs": [],
   "source": [
    "# YOUR CODE HERE\n",
    "raise NotImplementedError()"
   ]
  },
  {
   "cell_type": "code",
   "execution_count": null,
   "metadata": {
    "deletable": false,
    "editable": false,
    "nbgrader": {
     "cell_type": "code",
     "checksum": "f7809dfaa7d07df427389295ebeee22f",
     "grade": true,
     "grade_id": "2-c",
     "locked": true,
     "points": 5,
     "schema_version": 3,
     "solution": false
    }
   },
   "outputs": [],
   "source": []
  },
  {
   "cell_type": "markdown",
   "metadata": {
    "deletable": false,
    "editable": false,
    "nbgrader": {
     "cell_type": "markdown",
     "checksum": "1472c91ad91c4bed460fbff817f4b259",
     "grade": false,
     "grade_id": "cell-1e0da9877e80fe27",
     "locked": true,
     "schema_version": 3,
     "solution": false
    }
   },
   "source": [
    "## Remember!!\n",
    "\n",
    "1. Before you turn in this homework, make sure everything runs as expected. To do this, go to the _Kernel_ menu option, and select **\"Restart & Run All**. \n",
    "\n",
    "2. Make sure you filled in any place that says YOUR CODE HERE or \"YOUR ANSWER HERE\", as well as your name at the beginning of the notebook.\n",
    "\n",
    "3. DO NOT change the name of the file! Make sure your submission is still named `engcomp3hw1.ipynb`."
   ]
  }
 ],
 "metadata": {
  "kernelspec": {
   "display_name": "Python 3 (ipykernel)",
   "language": "python",
   "name": "python3"
  },
  "language_info": {
   "codemirror_mode": {
    "name": "ipython",
    "version": 3
   },
   "file_extension": ".py",
   "mimetype": "text/x-python",
   "name": "python",
   "nbconvert_exporter": "python",
   "pygments_lexer": "ipython3",
   "version": "3.9.7"
  }
 },
 "nbformat": 4,
 "nbformat_minor": 2
}
